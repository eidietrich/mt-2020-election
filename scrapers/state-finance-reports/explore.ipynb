{
 "cells": [
  {
   "cell_type": "code",
   "execution_count": 34,
   "metadata": {},
   "outputs": [],
   "source": [
    "import pandas as pd\n",
    "import json\n",
    "\n",
    "pd.options.display.max_columns = 100"
   ]
  },
  {
   "cell_type": "code",
   "execution_count": 9,
   "metadata": {},
   "outputs": [],
   "source": [
    "contributions = pd.read_json('data/raw-contributions.json', orient='records')\n",
    "expenditures = pd.read_json('data/raw-expenditures.json', orient='records')"
   ]
  },
  {
   "cell_type": "code",
   "execution_count": 47,
   "metadata": {},
   "outputs": [],
   "source": [
    "# Cleaning\n",
    "contributions['Candidate'] = contributions['Candidate'].str.strip()\n",
    "expenditures['Candidate'] = expenditures['Candidate'].str.strip()\n",
    "contribution_type = {\n",
    "    1: 'Personal contributions',\n",
    "    2: 'Unitemized contributions',\n",
    "    3: 'Loans',\n",
    "    4: 'Fundraisers & misc',\n",
    "    5: 'PAC contributions',\n",
    "    6: 'Political party contributions',\n",
    "    7: 'Incidental committee contributions',\n",
    "    8: 'Other political committee contributions',\n",
    "    9: 'Individual contributions',\n",
    "}\n",
    "contributions['type'] = contributions['Contribution Type'].replace(contribution_type)\n",
    "output = {\n",
    "    'contributions': contributions.to_json(orient='records'),\n",
    "    'expenditures': expenditures.to_json(orient='records')\n",
    "}"
   ]
  },
  {
   "cell_type": "code",
   "execution_count": 48,
   "metadata": {},
   "outputs": [],
   "source": [
    "with open('data/state-finance-cleaned.json', 'w') as f:\n",
    "    f.write(json.dumps(output))"
   ]
  },
  {
   "cell_type": "code",
   "execution_count": 32,
   "metadata": {},
   "outputs": [
    {
     "data": {
      "text/plain": [
       "9    4096\n",
       "3      26\n",
       "1      13\n",
       "5      11\n",
       "2       6\n",
       "4       2\n",
       "Name: Contribution Type, dtype: int64"
      ]
     },
     "execution_count": 32,
     "metadata": {},
     "output_type": "execute_result"
    }
   ],
   "source": [
    "contributions['Contribution Type'].value_counts()\n",
    "'''\n",
    "Key:\n",
    "Source: https://politicalpractices.mt.gov/Portals/144/2018forms/C5%20Form.pdf?ver=2017-09-12-150148-157\n",
    "1 - Personal contributions\n",
    "2 - Contributions less than $35\n",
    "3 - Loans\n",
    "4 - Interest/refunds/fundraisers/misc\n",
    "5 - PAC contributions\n",
    "6 - Political party contributions\n",
    "7 - Incidental committee contributions\n",
    "8 - Other political committee contributions\n",
    "9 - Individual contributions $35+\n",
    "'''"
   ]
  },
  {
   "cell_type": "code",
   "execution_count": 36,
   "metadata": {},
   "outputs": [
    {
     "data": {
      "text/plain": [
       "CA    4117\n",
       "IK      37\n",
       "Name: Amount Type, dtype: int64"
      ]
     },
     "execution_count": 36,
     "metadata": {},
     "output_type": "execute_result"
    }
   ],
   "source": [
    "contributions['Amount Type'].value_counts()\n",
    "'''\n",
    "CA = cash\n",
    "IK = in kind\n",
    "'''"
   ]
  },
  {
   "cell_type": "code",
   "execution_count": 43,
   "metadata": {},
   "outputs": [
    {
     "data": {
      "text/plain": [
       "PM    3075\n",
       "GN    1079\n",
       "Name: Election Type, dtype: int64"
      ]
     },
     "execution_count": 43,
     "metadata": {},
     "output_type": "execute_result"
    }
   ],
   "source": [
    "contributions['Election Type'].value_counts()\n",
    "'''\n",
    "PM = primary\n",
    "GN = general\n",
    "'''"
   ]
  },
  {
   "cell_type": "code",
   "execution_count": 46,
   "metadata": {},
   "outputs": [],
   "source": [
    "# contributions[contributions['Contribution Type'] == 3]"
   ]
  },
  {
   "cell_type": "code",
   "execution_count": 30,
   "metadata": {},
   "outputs": [
    {
     "data": {
      "text/plain": [
       "array(['Arntzen, Elsie', 'Bennett, Bryce', 'Bennion, Jon',\n",
       "       'Black, Michael  G', 'Dudik, Kimberly', 'Fox, Tim',\n",
       "       'Gianforte, Greg', 'Graybill, Raph', 'Knudsen, Austin',\n",
       "       'Morigeau, Shane  A', 'Neill, Reilly', 'Olszewski, Albert',\n",
       "       'Romano, Melissa', 'Sales, Scott', 'Schreiner, Casey  J'],\n",
       "      dtype=object)"
      ]
     },
     "execution_count": 30,
     "metadata": {},
     "output_type": "execute_result"
    }
   ],
   "source": [
    "contributions['Candidate'].unique()\n",
    "# expenditures['Candidate'].unique()"
   ]
  },
  {
   "cell_type": "code",
   "execution_count": 19,
   "metadata": {},
   "outputs": [],
   "source": []
  },
  {
   "cell_type": "code",
   "execution_count": 26,
   "metadata": {},
   "outputs": [],
   "source": []
  },
  {
   "cell_type": "code",
   "execution_count": null,
   "metadata": {},
   "outputs": [],
   "source": []
  }
 ],
 "metadata": {
  "kernelspec": {
   "display_name": "Python 3",
   "language": "python",
   "name": "python3"
  },
  "language_info": {
   "codemirror_mode": {
    "name": "ipython",
    "version": 3
   },
   "file_extension": ".py",
   "mimetype": "text/x-python",
   "name": "python",
   "nbconvert_exporter": "python",
   "pygments_lexer": "ipython3",
   "version": "3.6.4"
  }
 },
 "nbformat": 4,
 "nbformat_minor": 4
}
