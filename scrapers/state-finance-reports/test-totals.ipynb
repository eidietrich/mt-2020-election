{
 "cells": [
  {
   "cell_type": "code",
   "execution_count": 47,
   "metadata": {},
   "outputs": [],
   "source": [
    "import pandas as pd\n",
    "import requests\n",
    "from bs4 import BeautifulSoup\n",
    "import re"
   ]
  },
  {
   "cell_type": "code",
   "execution_count": 85,
   "metadata": {},
   "outputs": [],
   "source": [
    "from functions import get_candidate_finance_reports_cleaned\n",
    "from functions import get_candidate_list_cleaned"
   ]
  },
  {
   "cell_type": "code",
   "execution_count": null,
   "metadata": {},
   "outputs": [],
   "source": [
    "def fetch_single_c5(reportId, name, schedule):\n",
    "    \"\"\"\n",
    "    Fetches contributions from single report, parses as dataframe\n",
    "    \"\"\"\n",
    "\n",
    "    post_url = 'https://camptrackext.mt.gov/CampaignTracker/public/viewFinanceReport/prepareDownloadFileFromSearch'\n",
    "    get_url = 'https://camptrackext.mt.gov/CampaignTracker/public/viewFinanceReport/downloadFile'\n",
    "    post_payload = {\n",
    "        'reportId': reportId, # This is from checkbox on candidate report page\n",
    "        'scheduleCode': schedule, # A is contributions, # B is expenditures\n",
    "        'fname': name,\n",
    "    }\n",
    "    session = requests.Session()\n",
    "    p = session.post(post_url, post_payload)\n",
    "    if 'fileName' in p.json():\n",
    "        r = session.get(get_url, params=p.json())\n",
    "        if r.text == '':\n",
    "            print('Empty file. Report ID:', reportId)\n",
    "            return pd.DataFrame()\n",
    "        dfi = pd.read_csv(StringIO(r.text), sep='|', error_bad_lines=False, warn_bad_lines=True)\n",
    "        return dfi\n",
    "    else:\n",
    "        print('No file. Report ID:', reportId)\n",
    "        return pd.DataFrame()"
   ]
  },
  {
   "cell_type": "code",
   "execution_count": 86,
   "metadata": {},
   "outputs": [],
   "source": [
    "year = '2020'\n",
    "candidate_type_code = 'SW' # statewide\n",
    "search_data = {\n",
    "    'lastName': '',\n",
    "    'firstName': '',\n",
    "    'middleInitial': '',\n",
    "    'electionYear': year,\n",
    "    'candidateTypeCode': candidate_type_code,\n",
    "    'officeCode': '',\n",
    "    'countyCode': '',\n",
    "    'partyCode': '',\n",
    "}\n",
    "all_candidates = get_candidate_list_cleaned(search_data)"
   ]
  },
  {
   "cell_type": "code",
   "execution_count": 94,
   "metadata": {},
   "outputs": [],
   "source": [
    "# all_candidates"
   ]
  },
  {
   "cell_type": "code",
   "execution_count": 95,
   "metadata": {},
   "outputs": [
    {
     "data": {
      "text/plain": [
       "[16070]"
      ]
     },
     "execution_count": 95,
     "metadata": {},
     "output_type": "execute_result"
    }
   ],
   "source": [
    "[cand['candidateId'] for cand in all_candidates if (cand['candidateName'] == 'Cooney, Mike  R')]"
   ]
  },
  {
   "cell_type": "code",
   "execution_count": 82,
   "metadata": {},
   "outputs": [],
   "source": [
    "# Functions for fetching summary totals\n",
    "def fetch_candidate_summaries(candidateId):\n",
    "    reports = get_candidate_finance_reports_cleaned(candidateId)\n",
    "    if len(reports) == 0:\n",
    "        print('Found no reports', candidateId)\n",
    "    candidateName = reports[0]['candidateName']\n",
    "    print('Found', len(reports), 'reports for', candidateName)\n",
    "    report_summaries = []\n",
    "    for report in reports:\n",
    "        summary = get_report_summary(report['reportId'], candidateId)\n",
    "        report_summaries.append(summary)\n",
    "    return report_summaries\n",
    "    \n",
    "\n",
    "def get_report_summary(reportId, candidateId):\n",
    "    html = fetch_summary_report(reportId, candidateId)\n",
    "    soup = BeautifulSoup(html.text, 'html.parser')\n",
    "    parsed = parse_report(soup)\n",
    "    return parsed\n",
    "\n",
    "def fetch_summary_report(reportId, candidateId):\n",
    "    post_url = 'https://camptrackext.mt.gov/CampaignTracker/public/viewFinanceReport/retrieveReport'\n",
    "    post_payload = {\n",
    "        'candidateId': candidateId,\n",
    "        'reportId': reportId,\n",
    "        'searchPage': 'public'\n",
    "    }\n",
    "    session = requests.Session()\n",
    "    p = session.post(post_url, post_payload)\n",
    "    return p\n",
    "\n",
    "def parse_report(soup):\n",
    "    labels = [\n",
    "        'previous report',\n",
    "        'Receipts',\n",
    "        'Expenditures',\n",
    "        'Ending Balance',\n",
    "    ]\n",
    "    table = soup.find('div', id='summaryAccordionId').find('table')\n",
    "    return [{label: get_row(table, label)} for label in labels]\n",
    "\n",
    "def get_row(table, label):\n",
    "    # label can be partial text or regex\n",
    "    row = table.find('td', text=re.compile(label)).parent\n",
    "    # replaces remove \"$\" and \",\" from strings\n",
    "    pri = float(row.find_all('td')[2].text.replace('$','').replace(',','').replace(',',''))\n",
    "    gen =  float(row.find_all('td')[3].text.replace('$','').replace(',','').replace(',',''))\n",
    "    return {\n",
    "        'primary': pri,\n",
    "        'general': gen,\n",
    "        'total': round(pri + gen, 2),\n",
    "    }"
   ]
  },
  {
   "cell_type": "code",
   "execution_count": 81,
   "metadata": {},
   "outputs": [
    {
     "data": {
      "text/plain": [
       "[{'previous report': {'primary': 0.0, 'general': 0.0, 'total': 0.0}},\n",
       " {'Receipts': {'primary': 26375.0, 'general': 6440.0, 'total': 32815.0}},\n",
       " {'Expenditures': {'primary': 1411.22, 'general': 0.0, 'total': 1411.22}},\n",
       " {'Ending Balance': {'primary': 24963.78,\n",
       "   'general': 6440.0,\n",
       "   'total': 31403.78}}]"
      ]
     },
     "execution_count": 81,
     "metadata": {},
     "output_type": "execute_result"
    }
   ],
   "source": [
    "get_report_summary('45526', '16017') # 16017 is Schreiner"
   ]
  },
  {
   "cell_type": "code",
   "execution_count": 97,
   "metadata": {},
   "outputs": [
    {
     "name": "stdout",
     "output_type": "stream",
     "text": [
      "Found 2 reports for Cooney, Mike  R\n"
     ]
    }
   ],
   "source": [
    "summaries = fetch_candidate_summaries('16070')"
   ]
  },
  {
   "cell_type": "code",
   "execution_count": null,
   "metadata": {},
   "outputs": [],
   "source": [
    "# def checkSummaries"
   ]
  },
  {
   "cell_type": "code",
   "execution_count": 98,
   "metadata": {},
   "outputs": [
    {
     "data": {
      "text/plain": [
       "[[{'previous report': {'primary': 120581.92,\n",
       "    'general': 21635.0,\n",
       "    'total': 142216.92}},\n",
       "  {'Receipts': {'primary': 185618.43, 'general': 15388.0, 'total': 201006.43}},\n",
       "  {'Expenditures': {'primary': 164724.95,\n",
       "    'general': 30.0,\n",
       "    'total': 164754.95}},\n",
       "  {'Ending Balance': {'primary': 141475.4,\n",
       "    'general': 36993.0,\n",
       "    'total': 178468.4}}],\n",
       " [{'previous report': {'primary': 0.0, 'general': 0.0, 'total': 0.0}},\n",
       "  {'Receipts': {'primary': 228228.68, 'general': 21795.0, 'total': 250023.68}},\n",
       "  {'Expenditures': {'primary': 107646.76,\n",
       "    'general': 160.0,\n",
       "    'total': 107806.76}},\n",
       "  {'Ending Balance': {'primary': 120581.92,\n",
       "    'general': 21635.0,\n",
       "    'total': 142216.92}}]]"
      ]
     },
     "execution_count": 98,
     "metadata": {},
     "output_type": "execute_result"
    }
   ],
   "source": [
    "summaries"
   ]
  },
  {
   "cell_type": "code",
   "execution_count": 103,
   "metadata": {},
   "outputs": [
    {
     "data": {
      "text/plain": [
       "402012.86"
      ]
     },
     "execution_count": 103,
     "metadata": {},
     "output_type": "execute_result"
    }
   ],
   "source": [
    "summaries[0][1]['Receipts']['total'] + summaries[0][1]['Receipts']['total']"
   ]
  },
  {
   "cell_type": "code",
   "execution_count": null,
   "metadata": {},
   "outputs": [],
   "source": []
  }
 ],
 "metadata": {
  "kernelspec": {
   "display_name": "Python 3",
   "language": "python",
   "name": "python3"
  },
  "language_info": {
   "codemirror_mode": {
    "name": "ipython",
    "version": 3
   },
   "file_extension": ".py",
   "mimetype": "text/x-python",
   "name": "python",
   "nbconvert_exporter": "python",
   "pygments_lexer": "ipython3",
   "version": "3.6.4"
  }
 },
 "nbformat": 4,
 "nbformat_minor": 4
}
